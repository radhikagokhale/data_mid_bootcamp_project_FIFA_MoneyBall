{
 "cells": [
  {
   "cell_type": "code",
   "execution_count": 132,
   "id": "89f88068",
   "metadata": {},
   "outputs": [],
   "source": [
    "import pandas as pd\n",
    "import numpy as np\n",
    "import matplotlib.pyplot as plt\n",
    "import seaborn as sns\n",
    "import scipy.stats as stats\n",
    "import os\n",
    "\n",
    "from sklearn.model_selection import train_test_split\n",
    "from sklearn.linear_model import LinearRegression\n",
    "from sklearn.metrics import r2_score, mean_squared_error, mean_absolute_error\n",
    "\n",
    "import warnings\n",
    "warnings.filterwarnings('ignore')\n",
    "\n",
    "from sklearn.preprocessing import StandardScaler, LabelEncoder, OneHotEncoder\n",
    "from sklearn.model_selection import train_test_split\n",
    "import pickle\n",
    "from sklearn.preprocessing import Normalizer"
   ]
  },
  {
   "cell_type": "markdown",
   "id": "13a85981",
   "metadata": {},
   "source": [
    "I used a dataset that contains player data from FIFA21. The objective of the project is to find relation between ‘ova’ (overall average) ,‘age’(age of player),'position','club' and ‘market_value‘ (market value is addition of columns ‘value ‘and ‘wage’)\n",
    "\n",
    " Statements:\n",
    "-\tAs ‘ova’ increase market value of player also increase \n",
    "-\tMaximin player have good ‘ova’ are between age group  25-40\n",
    "-\tvalue of player depend on club also , as “Paris Saint-Germain”  have highest paying  player , other  clubs player with same     ova have less value . \n",
    "-\tAlso player who can play on multiple position have more market value .\n",
    "\n",
    "\n",
    "Final statement: market value of player depends upon players age, overall average, club which through player play and players position \n",
    "\n",
    "\n",
    "        name\t       age\tposition\tova     club\t              market_value\n",
    "        \n",
    "9331\tK. Mbappé\t    21\tST LW RW\t90\t\tParis Saint-Germain\t  105660000.0\n",
    "2650\tNeymar Jr       28\tLW CAM\t    91\t\tParis Saint-Germain\t  90270000.0\n",
    "2871\tK. De Bruyne\t29\tCAM CM\t    91\t\tManchester City\t      87370000.0\n",
    "2287\tR. Lewandowski\t31\tST\t        91\t\tFC Bayern München\t  80240000.0\n",
    "5109\tM. Salah\t    28\tRW\t        90\t\tLiverpool\t          78250000.0\n",
    "\n"
   ]
  },
  {
   "cell_type": "markdown",
   "id": "d8ddb43c",
   "metadata": {},
   "source": [
    "## Fetching and formating of data"
   ]
  },
  {
   "cell_type": "code",
   "execution_count": 133,
   "id": "69aed18b",
   "metadata": {},
   "outputs": [
    {
     "data": {
      "text/html": [
       "<div>\n",
       "<style scoped>\n",
       "    .dataframe tbody tr th:only-of-type {\n",
       "        vertical-align: middle;\n",
       "    }\n",
       "\n",
       "    .dataframe tbody tr th {\n",
       "        vertical-align: top;\n",
       "    }\n",
       "\n",
       "    .dataframe thead th {\n",
       "        text-align: right;\n",
       "    }\n",
       "</style>\n",
       "<table border=\"1\" class=\"dataframe\">\n",
       "  <thead>\n",
       "    <tr style=\"text-align: right;\">\n",
       "      <th></th>\n",
       "      <th>id</th>\n",
       "      <th>name</th>\n",
       "      <th>age</th>\n",
       "      <th>ova</th>\n",
       "      <th>nationality</th>\n",
       "      <th>club</th>\n",
       "      <th>bov</th>\n",
       "      <th>bp</th>\n",
       "      <th>position</th>\n",
       "      <th>player_photo</th>\n",
       "      <th>...</th>\n",
       "      <th>cdm</th>\n",
       "      <th>rdm</th>\n",
       "      <th>rwb</th>\n",
       "      <th>lb</th>\n",
       "      <th>lcb</th>\n",
       "      <th>cb</th>\n",
       "      <th>rcb</th>\n",
       "      <th>rb</th>\n",
       "      <th>gk</th>\n",
       "      <th>gender</th>\n",
       "    </tr>\n",
       "  </thead>\n",
       "  <tbody>\n",
       "    <tr>\n",
       "      <th>0</th>\n",
       "      <td>2</td>\n",
       "      <td>G. Pasquale</td>\n",
       "      <td>33</td>\n",
       "      <td>69</td>\n",
       "      <td>Italy</td>\n",
       "      <td>Udinese</td>\n",
       "      <td>71</td>\n",
       "      <td>LWB</td>\n",
       "      <td>LM</td>\n",
       "      <td>https://cdn.sofifa.com/players/000/002/16_120.png</td>\n",
       "      <td>...</td>\n",
       "      <td>70+-1</td>\n",
       "      <td>70+-1</td>\n",
       "      <td>71+-2</td>\n",
       "      <td>70+-1</td>\n",
       "      <td>69+0</td>\n",
       "      <td>69+0</td>\n",
       "      <td>69+0</td>\n",
       "      <td>70+-1</td>\n",
       "      <td>17+0</td>\n",
       "      <td>Male</td>\n",
       "    </tr>\n",
       "    <tr>\n",
       "      <th>1</th>\n",
       "      <td>16</td>\n",
       "      <td>Luis García</td>\n",
       "      <td>37</td>\n",
       "      <td>71</td>\n",
       "      <td>Spain</td>\n",
       "      <td>KAS Eupen</td>\n",
       "      <td>70</td>\n",
       "      <td>CM</td>\n",
       "      <td>CM CAM CDM</td>\n",
       "      <td>https://cdn.sofifa.com/players/000/016/19_120.png</td>\n",
       "      <td>...</td>\n",
       "      <td>66+1</td>\n",
       "      <td>66+1</td>\n",
       "      <td>62+1</td>\n",
       "      <td>60+1</td>\n",
       "      <td>60+1</td>\n",
       "      <td>60+1</td>\n",
       "      <td>60+1</td>\n",
       "      <td>60+1</td>\n",
       "      <td>17+1</td>\n",
       "      <td>Male</td>\n",
       "    </tr>\n",
       "    <tr>\n",
       "      <th>2</th>\n",
       "      <td>27</td>\n",
       "      <td>J. Cole</td>\n",
       "      <td>33</td>\n",
       "      <td>71</td>\n",
       "      <td>England</td>\n",
       "      <td>Coventry City</td>\n",
       "      <td>71</td>\n",
       "      <td>CAM</td>\n",
       "      <td>CAM RM RW LM</td>\n",
       "      <td>https://cdn.sofifa.com/players/000/027/16_120.png</td>\n",
       "      <td>...</td>\n",
       "      <td>54+0</td>\n",
       "      <td>54+0</td>\n",
       "      <td>52+0</td>\n",
       "      <td>47+0</td>\n",
       "      <td>46+0</td>\n",
       "      <td>46+0</td>\n",
       "      <td>46+0</td>\n",
       "      <td>47+0</td>\n",
       "      <td>15+0</td>\n",
       "      <td>Male</td>\n",
       "    </tr>\n",
       "    <tr>\n",
       "      <th>3</th>\n",
       "      <td>36</td>\n",
       "      <td>D. Yorke</td>\n",
       "      <td>36</td>\n",
       "      <td>68</td>\n",
       "      <td>Trinidad &amp;amp; Tobago</td>\n",
       "      <td>Sunderland</td>\n",
       "      <td>70</td>\n",
       "      <td>ST</td>\n",
       "      <td>NaN</td>\n",
       "      <td>https://cdn.sofifa.com/players/000/036/09_120.png</td>\n",
       "      <td>...</td>\n",
       "      <td>65+0</td>\n",
       "      <td>65+0</td>\n",
       "      <td>56+0</td>\n",
       "      <td>57+0</td>\n",
       "      <td>51+0</td>\n",
       "      <td>51+0</td>\n",
       "      <td>51+0</td>\n",
       "      <td>57+0</td>\n",
       "      <td>22+0</td>\n",
       "      <td>Male</td>\n",
       "    </tr>\n",
       "    <tr>\n",
       "      <th>4</th>\n",
       "      <td>41</td>\n",
       "      <td>Iniesta</td>\n",
       "      <td>36</td>\n",
       "      <td>81</td>\n",
       "      <td>Spain</td>\n",
       "      <td>Vissel Kobe</td>\n",
       "      <td>82</td>\n",
       "      <td>CAM</td>\n",
       "      <td>CM CAM</td>\n",
       "      <td>https://cdn.sofifa.com/players/000/041/20_120.png</td>\n",
       "      <td>...</td>\n",
       "      <td>73+3</td>\n",
       "      <td>73+3</td>\n",
       "      <td>70+3</td>\n",
       "      <td>67+3</td>\n",
       "      <td>64+3</td>\n",
       "      <td>64+3</td>\n",
       "      <td>64+3</td>\n",
       "      <td>67+3</td>\n",
       "      <td>17+3</td>\n",
       "      <td>Male</td>\n",
       "    </tr>\n",
       "  </tbody>\n",
       "</table>\n",
       "<p>5 rows × 107 columns</p>\n",
       "</div>"
      ],
      "text/plain": [
       "   id         name  age  ova            nationality           club  bov   bp  \\\n",
       "0   2  G. Pasquale   33   69                  Italy        Udinese   71  LWB   \n",
       "1  16  Luis García   37   71                  Spain      KAS Eupen   70   CM   \n",
       "2  27      J. Cole   33   71                England  Coventry City   71  CAM   \n",
       "3  36     D. Yorke   36   68  Trinidad &amp; Tobago     Sunderland   70   ST   \n",
       "4  41      Iniesta   36   81                  Spain    Vissel Kobe   82  CAM   \n",
       "\n",
       "       position                                       player_photo  ...  \\\n",
       "0            LM  https://cdn.sofifa.com/players/000/002/16_120.png  ...   \n",
       "1    CM CAM CDM  https://cdn.sofifa.com/players/000/016/19_120.png  ...   \n",
       "2  CAM RM RW LM  https://cdn.sofifa.com/players/000/027/16_120.png  ...   \n",
       "3           NaN  https://cdn.sofifa.com/players/000/036/09_120.png  ...   \n",
       "4        CM CAM  https://cdn.sofifa.com/players/000/041/20_120.png  ...   \n",
       "\n",
       "     cdm    rdm    rwb     lb   lcb    cb   rcb     rb    gk gender  \n",
       "0  70+-1  70+-1  71+-2  70+-1  69+0  69+0  69+0  70+-1  17+0   Male  \n",
       "1   66+1   66+1   62+1   60+1  60+1  60+1  60+1   60+1  17+1   Male  \n",
       "2   54+0   54+0   52+0   47+0  46+0  46+0  46+0   47+0  15+0   Male  \n",
       "3   65+0   65+0   56+0   57+0  51+0  51+0  51+0   57+0  22+0   Male  \n",
       "4   73+3   73+3   70+3   67+3  64+3  64+3  64+3   67+3  17+3   Male  \n",
       "\n",
       "[5 rows x 107 columns]"
      ]
     },
     "execution_count": 133,
     "metadata": {},
     "output_type": "execute_result"
    }
   ],
   "source": [
    "df = pd.read_csv(r'C:\\Users\\parag\\Desktop\\ironhack\\lab\\project\\data_mid_bootcamp_project_FIFA_MoneyBall\\fifa21_male2.csv')\n",
    "df.columns = df.columns.str.lower().str.replace(' ','_')\n",
    "df.drop_duplicates()\n",
    "df.head()"
   ]
  },
  {
   "cell_type": "code",
   "execution_count": 134,
   "id": "8f6747d2",
   "metadata": {},
   "outputs": [
    {
     "name": "stdout",
     "output_type": "stream",
     "text": [
      "<class 'pandas.core.frame.DataFrame'>\n",
      "RangeIndex: 17125 entries, 0 to 17124\n",
      "Data columns (total 107 columns):\n",
      " #    Column            Dtype  \n",
      "---   ------            -----  \n",
      " 0    id                int64  \n",
      " 1    name              object \n",
      " 2    age               int64  \n",
      " 3    ova               int64  \n",
      " 4    nationality       object \n",
      " 5    club              object \n",
      " 6    bov               int64  \n",
      " 7    bp                object \n",
      " 8    position          object \n",
      " 9    player_photo      object \n",
      " 10   club_logo         object \n",
      " 11   flag_photo        object \n",
      " 12   pot               int64  \n",
      " 13   team_&_contract   object \n",
      " 14   height            object \n",
      " 15   weight            object \n",
      " 16   foot              object \n",
      " 17   growth            int64  \n",
      " 18   joined            object \n",
      " 19   loan_date_end     object \n",
      " 20   value             object \n",
      " 21   wage              object \n",
      " 22   release_clause    object \n",
      " 23   contract          object \n",
      " 24   attacking         int64  \n",
      " 25   crossing          int64  \n",
      " 26   finishing         int64  \n",
      " 27   heading_accuracy  int64  \n",
      " 28   short_passing     int64  \n",
      " 29   volleys           float64\n",
      " 30   skill             int64  \n",
      " 31   dribbling         int64  \n",
      " 32   curve             float64\n",
      " 33   fk_accuracy       int64  \n",
      " 34   long_passing      int64  \n",
      " 35   ball_control      int64  \n",
      " 36   movement          int64  \n",
      " 37   acceleration      int64  \n",
      " 38   sprint_speed      int64  \n",
      " 39   agility           float64\n",
      " 40   reactions         int64  \n",
      " 41   balance           float64\n",
      " 42   power             int64  \n",
      " 43   shot_power        int64  \n",
      " 44   jumping           float64\n",
      " 45   stamina           int64  \n",
      " 46   strength          int64  \n",
      " 47   long_shots        int64  \n",
      " 48   mentality         int64  \n",
      " 49   aggression        int64  \n",
      " 50   interceptions     float64\n",
      " 51   positioning       float64\n",
      " 52   vision            float64\n",
      " 53   penalties         int64  \n",
      " 54   composure         float64\n",
      " 55   defending         int64  \n",
      " 56   marking           int64  \n",
      " 57   standing_tackle   int64  \n",
      " 58   sliding_tackle    float64\n",
      " 59   goalkeeping       int64  \n",
      " 60   gk_diving         int64  \n",
      " 61   gk_handling       int64  \n",
      " 62   gk_kicking        int64  \n",
      " 63   gk_positioning    int64  \n",
      " 64   gk_reflexes       int64  \n",
      " 65   total_stats       int64  \n",
      " 66   base_stats        int64  \n",
      " 67   w/f               object \n",
      " 68   sm                object \n",
      " 69   a/w               object \n",
      " 70   d/w               object \n",
      " 71   ir                object \n",
      " 72   pac               int64  \n",
      " 73   sho               int64  \n",
      " 74   pas               int64  \n",
      " 75   dri               int64  \n",
      " 76   def               int64  \n",
      " 77   phy               int64  \n",
      " 78   hits              object \n",
      " 79   ls                object \n",
      " 80   st                object \n",
      " 81   rs                object \n",
      " 82   lw                object \n",
      " 83   lf                object \n",
      " 84   cf                object \n",
      " 85   rf                object \n",
      " 86   rw                object \n",
      " 87   lam               object \n",
      " 88   cam               object \n",
      " 89   ram               object \n",
      " 90   lm                object \n",
      " 91   lcm               object \n",
      " 92   cm                object \n",
      " 93   rcm               object \n",
      " 94   rm                object \n",
      " 95   lwb               object \n",
      " 96   ldm               object \n",
      " 97   cdm               object \n",
      " 98   rdm               object \n",
      " 99   rwb               object \n",
      " 100  lb                object \n",
      " 101  lcb               object \n",
      " 102  cb                object \n",
      " 103  rcb               object \n",
      " 104  rb                object \n",
      " 105  gk                object \n",
      " 106  gender            object \n",
      "dtypes: float64(10), int64(45), object(52)\n",
      "memory usage: 14.0+ MB\n"
     ]
    }
   ],
   "source": [
    "df.info(verbose=True)\n"
   ]
  },
  {
   "cell_type": "code",
   "execution_count": 135,
   "id": "a818892f",
   "metadata": {},
   "outputs": [
    {
     "data": {
      "text/plain": [
       "id             0\n",
       "name           0\n",
       "age            0\n",
       "ova            0\n",
       "nationality    0\n",
       "              ..\n",
       "cb             0\n",
       "rcb            0\n",
       "rb             0\n",
       "gk             0\n",
       "gender         0\n",
       "Length: 107, dtype: int64"
      ]
     },
     "execution_count": 135,
     "metadata": {},
     "output_type": "execute_result"
    }
   ],
   "source": [
    "#check nulls\n",
    "df.isna().sum()"
   ]
  },
  {
   "cell_type": "code",
   "execution_count": 136,
   "id": "9a6e5e41",
   "metadata": {
    "scrolled": false
   },
   "outputs": [
    {
     "data": {
      "text/plain": [
       "Index(['id', 'name', 'age', 'ova', 'nationality', 'club', 'bov', 'bp',\n",
       "       'position', 'player_photo',\n",
       "       ...\n",
       "       'cdm', 'rdm', 'rwb', 'lb', 'lcb', 'cb', 'rcb', 'rb', 'gk', 'gender'],\n",
       "      dtype='object', length=107)"
      ]
     },
     "execution_count": 136,
     "metadata": {},
     "output_type": "execute_result"
    }
   ],
   "source": [
    "df.columns"
   ]
  },
  {
   "cell_type": "markdown",
   "id": "f60f3bb5",
   "metadata": {},
   "source": [
    "# Selection of required columns only"
   ]
  },
  {
   "cell_type": "code",
   "execution_count": 137,
   "id": "6c583698",
   "metadata": {
    "scrolled": true
   },
   "outputs": [
    {
     "data": {
      "text/html": [
       "<div>\n",
       "<style scoped>\n",
       "    .dataframe tbody tr th:only-of-type {\n",
       "        vertical-align: middle;\n",
       "    }\n",
       "\n",
       "    .dataframe tbody tr th {\n",
       "        vertical-align: top;\n",
       "    }\n",
       "\n",
       "    .dataframe thead th {\n",
       "        text-align: right;\n",
       "    }\n",
       "</style>\n",
       "<table border=\"1\" class=\"dataframe\">\n",
       "  <thead>\n",
       "    <tr style=\"text-align: right;\">\n",
       "      <th></th>\n",
       "      <th>name</th>\n",
       "      <th>age</th>\n",
       "      <th>position</th>\n",
       "      <th>ova</th>\n",
       "      <th>value</th>\n",
       "      <th>wage</th>\n",
       "      <th>club</th>\n",
       "    </tr>\n",
       "  </thead>\n",
       "  <tbody>\n",
       "    <tr>\n",
       "      <th>0</th>\n",
       "      <td>G. Pasquale</td>\n",
       "      <td>33</td>\n",
       "      <td>LM</td>\n",
       "      <td>69</td>\n",
       "      <td>€625K</td>\n",
       "      <td>€7K</td>\n",
       "      <td>Udinese</td>\n",
       "    </tr>\n",
       "    <tr>\n",
       "      <th>1</th>\n",
       "      <td>Luis García</td>\n",
       "      <td>37</td>\n",
       "      <td>CM CAM CDM</td>\n",
       "      <td>71</td>\n",
       "      <td>€600K</td>\n",
       "      <td>€7K</td>\n",
       "      <td>KAS Eupen</td>\n",
       "    </tr>\n",
       "    <tr>\n",
       "      <th>2</th>\n",
       "      <td>J. Cole</td>\n",
       "      <td>33</td>\n",
       "      <td>CAM RM RW LM</td>\n",
       "      <td>71</td>\n",
       "      <td>€1.1M</td>\n",
       "      <td>€15K</td>\n",
       "      <td>Coventry City</td>\n",
       "    </tr>\n",
       "    <tr>\n",
       "      <th>3</th>\n",
       "      <td>D. Yorke</td>\n",
       "      <td>36</td>\n",
       "      <td>NaN</td>\n",
       "      <td>68</td>\n",
       "      <td>€0</td>\n",
       "      <td>€0</td>\n",
       "      <td>Sunderland</td>\n",
       "    </tr>\n",
       "    <tr>\n",
       "      <th>4</th>\n",
       "      <td>Iniesta</td>\n",
       "      <td>36</td>\n",
       "      <td>CM CAM</td>\n",
       "      <td>81</td>\n",
       "      <td>€5.5M</td>\n",
       "      <td>€12K</td>\n",
       "      <td>Vissel Kobe</td>\n",
       "    </tr>\n",
       "  </tbody>\n",
       "</table>\n",
       "</div>"
      ],
      "text/plain": [
       "          name  age      position  ova  value  wage           club\n",
       "0  G. Pasquale   33            LM   69  €625K   €7K        Udinese\n",
       "1  Luis García   37    CM CAM CDM   71  €600K   €7K      KAS Eupen\n",
       "2      J. Cole   33  CAM RM RW LM   71  €1.1M  €15K  Coventry City\n",
       "3     D. Yorke   36           NaN   68     €0    €0     Sunderland\n",
       "4      Iniesta   36        CM CAM   81  €5.5M  €12K    Vissel Kobe"
      ]
     },
     "execution_count": 137,
     "metadata": {},
     "output_type": "execute_result"
    }
   ],
   "source": [
    "df1 = df[[ 'name', 'age','position','ova','value','wage','club']]\n",
    "df1.head()"
   ]
  },
  {
   "cell_type": "markdown",
   "id": "a6f5e506",
   "metadata": {},
   "source": [
    "# Filter data as per requirement :\n",
    "# Want to remove ‘'€’, ‘K’,’M’  from columns value, wage and change data type to float"
   ]
  },
  {
   "cell_type": "code",
   "execution_count": 138,
   "id": "1e4c81da",
   "metadata": {},
   "outputs": [],
   "source": [
    "def parse_money(s):\n",
    "    if s.startswith('€'):\n",
    "        s = s[1:]\n",
    "    multiplier = None\n",
    "    if s.endswith('M'):\n",
    "        s = s[:-1]\n",
    "        multiplier = 1000000\n",
    "    elif s.endswith('B'):\n",
    "        s = s[:-1]\n",
    "        multiplier = 1000000000\n",
    "    elif s.endswith('K'):\n",
    "        s = s[:-1]\n",
    "        multiplier = 1000\n",
    "    f = float(s)\n",
    "    if multiplier:\n",
    "        f = f * multiplier\n",
    "    return f\n",
    "\n"
   ]
  },
  {
   "cell_type": "code",
   "execution_count": 139,
   "id": "3be8b555",
   "metadata": {
    "scrolled": true
   },
   "outputs": [
    {
     "data": {
      "text/html": [
       "<div>\n",
       "<style scoped>\n",
       "    .dataframe tbody tr th:only-of-type {\n",
       "        vertical-align: middle;\n",
       "    }\n",
       "\n",
       "    .dataframe tbody tr th {\n",
       "        vertical-align: top;\n",
       "    }\n",
       "\n",
       "    .dataframe thead th {\n",
       "        text-align: right;\n",
       "    }\n",
       "</style>\n",
       "<table border=\"1\" class=\"dataframe\">\n",
       "  <thead>\n",
       "    <tr style=\"text-align: right;\">\n",
       "      <th></th>\n",
       "      <th>value</th>\n",
       "      <th>wage</th>\n",
       "    </tr>\n",
       "  </thead>\n",
       "  <tbody>\n",
       "    <tr>\n",
       "      <th>0</th>\n",
       "      <td>625000.0</td>\n",
       "      <td>7000.0</td>\n",
       "    </tr>\n",
       "    <tr>\n",
       "      <th>1</th>\n",
       "      <td>600000.0</td>\n",
       "      <td>7000.0</td>\n",
       "    </tr>\n",
       "    <tr>\n",
       "      <th>2</th>\n",
       "      <td>1100000.0</td>\n",
       "      <td>15000.0</td>\n",
       "    </tr>\n",
       "    <tr>\n",
       "      <th>3</th>\n",
       "      <td>0.0</td>\n",
       "      <td>0.0</td>\n",
       "    </tr>\n",
       "    <tr>\n",
       "      <th>4</th>\n",
       "      <td>5500000.0</td>\n",
       "      <td>12000.0</td>\n",
       "    </tr>\n",
       "  </tbody>\n",
       "</table>\n",
       "</div>"
      ],
      "text/plain": [
       "       value     wage\n",
       "0   625000.0   7000.0\n",
       "1   600000.0   7000.0\n",
       "2  1100000.0  15000.0\n",
       "3        0.0      0.0\n",
       "4  5500000.0  12000.0"
      ]
     },
     "execution_count": 139,
     "metadata": {},
     "output_type": "execute_result"
    }
   ],
   "source": [
    "df1['value'] = df1['value'].apply(parse_money)\n",
    "df1['wage'] = df1['wage'].apply(parse_money)\n",
    "df1[['value', 'wage']].head()"
   ]
  },
  {
   "cell_type": "markdown",
   "id": "70af30ed",
   "metadata": {},
   "source": [
    "Addition of value and wage to calculate total value of particular player"
   ]
  },
  {
   "cell_type": "code",
   "execution_count": 140,
   "id": "22b814b4",
   "metadata": {},
   "outputs": [],
   "source": [
    "df1['market_value'] = df1['value'] + df1['wage'] "
   ]
  },
  {
   "cell_type": "code",
   "execution_count": 141,
   "id": "03657268",
   "metadata": {
    "scrolled": true
   },
   "outputs": [
    {
     "data": {
      "text/html": [
       "<div>\n",
       "<style scoped>\n",
       "    .dataframe tbody tr th:only-of-type {\n",
       "        vertical-align: middle;\n",
       "    }\n",
       "\n",
       "    .dataframe tbody tr th {\n",
       "        vertical-align: top;\n",
       "    }\n",
       "\n",
       "    .dataframe thead th {\n",
       "        text-align: right;\n",
       "    }\n",
       "</style>\n",
       "<table border=\"1\" class=\"dataframe\">\n",
       "  <thead>\n",
       "    <tr style=\"text-align: right;\">\n",
       "      <th></th>\n",
       "      <th>age</th>\n",
       "      <th>ova</th>\n",
       "      <th>value</th>\n",
       "      <th>wage</th>\n",
       "      <th>market_value</th>\n",
       "    </tr>\n",
       "  </thead>\n",
       "  <tbody>\n",
       "    <tr>\n",
       "      <th>count</th>\n",
       "      <td>17125.000000</td>\n",
       "      <td>17125.000000</td>\n",
       "      <td>1.712500e+04</td>\n",
       "      <td>17125.000000</td>\n",
       "      <td>1.712500e+04</td>\n",
       "    </tr>\n",
       "    <tr>\n",
       "      <th>mean</th>\n",
       "      <td>25.272934</td>\n",
       "      <td>66.965022</td>\n",
       "      <td>2.567377e+06</td>\n",
       "      <td>10532.928467</td>\n",
       "      <td>2.577910e+06</td>\n",
       "    </tr>\n",
       "    <tr>\n",
       "      <th>std</th>\n",
       "      <td>4.942665</td>\n",
       "      <td>6.864329</td>\n",
       "      <td>5.372622e+06</td>\n",
       "      <td>21145.376646</td>\n",
       "      <td>5.390033e+06</td>\n",
       "    </tr>\n",
       "    <tr>\n",
       "      <th>min</th>\n",
       "      <td>16.000000</td>\n",
       "      <td>38.000000</td>\n",
       "      <td>0.000000e+00</td>\n",
       "      <td>0.000000</td>\n",
       "      <td>0.000000e+00</td>\n",
       "    </tr>\n",
       "    <tr>\n",
       "      <th>25%</th>\n",
       "      <td>21.000000</td>\n",
       "      <td>62.000000</td>\n",
       "      <td>3.750000e+05</td>\n",
       "      <td>1000.000000</td>\n",
       "      <td>3.760000e+05</td>\n",
       "    </tr>\n",
       "    <tr>\n",
       "      <th>50%</th>\n",
       "      <td>25.000000</td>\n",
       "      <td>67.000000</td>\n",
       "      <td>8.000000e+05</td>\n",
       "      <td>3000.000000</td>\n",
       "      <td>8.030000e+05</td>\n",
       "    </tr>\n",
       "    <tr>\n",
       "      <th>75%</th>\n",
       "      <td>29.000000</td>\n",
       "      <td>72.000000</td>\n",
       "      <td>2.400000e+06</td>\n",
       "      <td>11000.000000</td>\n",
       "      <td>2.415000e+06</td>\n",
       "    </tr>\n",
       "    <tr>\n",
       "      <th>max</th>\n",
       "      <td>53.000000</td>\n",
       "      <td>93.000000</td>\n",
       "      <td>1.055000e+08</td>\n",
       "      <td>560000.000000</td>\n",
       "      <td>1.056600e+08</td>\n",
       "    </tr>\n",
       "  </tbody>\n",
       "</table>\n",
       "</div>"
      ],
      "text/plain": [
       "                age           ova         value           wage  market_value\n",
       "count  17125.000000  17125.000000  1.712500e+04   17125.000000  1.712500e+04\n",
       "mean      25.272934     66.965022  2.567377e+06   10532.928467  2.577910e+06\n",
       "std        4.942665      6.864329  5.372622e+06   21145.376646  5.390033e+06\n",
       "min       16.000000     38.000000  0.000000e+00       0.000000  0.000000e+00\n",
       "25%       21.000000     62.000000  3.750000e+05    1000.000000  3.760000e+05\n",
       "50%       25.000000     67.000000  8.000000e+05    3000.000000  8.030000e+05\n",
       "75%       29.000000     72.000000  2.400000e+06   11000.000000  2.415000e+06\n",
       "max       53.000000     93.000000  1.055000e+08  560000.000000  1.056600e+08"
      ]
     },
     "execution_count": 141,
     "metadata": {},
     "output_type": "execute_result"
    }
   ],
   "source": [
    "df1.describe()"
   ]
  },
  {
   "cell_type": "markdown",
   "id": "0245c0ea",
   "metadata": {},
   "source": [
    "# Get the numeric data into dataframe called numerical and categorical columns in a dataframe called categoricals"
   ]
  },
  {
   "cell_type": "code",
   "execution_count": 142,
   "id": "6ec77e2e",
   "metadata": {
    "scrolled": true
   },
   "outputs": [
    {
     "name": "stdout",
     "output_type": "stream",
     "text": [
      "Numerical Data into dataframe:\n"
     ]
    },
    {
     "data": {
      "text/html": [
       "<div>\n",
       "<style scoped>\n",
       "    .dataframe tbody tr th:only-of-type {\n",
       "        vertical-align: middle;\n",
       "    }\n",
       "\n",
       "    .dataframe tbody tr th {\n",
       "        vertical-align: top;\n",
       "    }\n",
       "\n",
       "    .dataframe thead th {\n",
       "        text-align: right;\n",
       "    }\n",
       "</style>\n",
       "<table border=\"1\" class=\"dataframe\">\n",
       "  <thead>\n",
       "    <tr style=\"text-align: right;\">\n",
       "      <th></th>\n",
       "      <th>age</th>\n",
       "      <th>ova</th>\n",
       "      <th>value</th>\n",
       "      <th>wage</th>\n",
       "      <th>market_value</th>\n",
       "    </tr>\n",
       "  </thead>\n",
       "  <tbody>\n",
       "    <tr>\n",
       "      <th>0</th>\n",
       "      <td>33</td>\n",
       "      <td>69</td>\n",
       "      <td>625000.0</td>\n",
       "      <td>7000.0</td>\n",
       "      <td>632000.0</td>\n",
       "    </tr>\n",
       "    <tr>\n",
       "      <th>1</th>\n",
       "      <td>37</td>\n",
       "      <td>71</td>\n",
       "      <td>600000.0</td>\n",
       "      <td>7000.0</td>\n",
       "      <td>607000.0</td>\n",
       "    </tr>\n",
       "    <tr>\n",
       "      <th>2</th>\n",
       "      <td>33</td>\n",
       "      <td>71</td>\n",
       "      <td>1100000.0</td>\n",
       "      <td>15000.0</td>\n",
       "      <td>1115000.0</td>\n",
       "    </tr>\n",
       "    <tr>\n",
       "      <th>3</th>\n",
       "      <td>36</td>\n",
       "      <td>68</td>\n",
       "      <td>0.0</td>\n",
       "      <td>0.0</td>\n",
       "      <td>0.0</td>\n",
       "    </tr>\n",
       "    <tr>\n",
       "      <th>4</th>\n",
       "      <td>36</td>\n",
       "      <td>81</td>\n",
       "      <td>5500000.0</td>\n",
       "      <td>12000.0</td>\n",
       "      <td>5512000.0</td>\n",
       "    </tr>\n",
       "  </tbody>\n",
       "</table>\n",
       "</div>"
      ],
      "text/plain": [
       "   age  ova      value     wage  market_value\n",
       "0   33   69   625000.0   7000.0      632000.0\n",
       "1   37   71   600000.0   7000.0      607000.0\n",
       "2   33   71  1100000.0  15000.0     1115000.0\n",
       "3   36   68        0.0      0.0           0.0\n",
       "4   36   81  5500000.0  12000.0     5512000.0"
      ]
     },
     "metadata": {},
     "output_type": "display_data"
    },
    {
     "name": "stdout",
     "output_type": "stream",
     "text": [
      "Categorical Data into dataframe:\n"
     ]
    },
    {
     "data": {
      "text/html": [
       "<div>\n",
       "<style scoped>\n",
       "    .dataframe tbody tr th:only-of-type {\n",
       "        vertical-align: middle;\n",
       "    }\n",
       "\n",
       "    .dataframe tbody tr th {\n",
       "        vertical-align: top;\n",
       "    }\n",
       "\n",
       "    .dataframe thead th {\n",
       "        text-align: right;\n",
       "    }\n",
       "</style>\n",
       "<table border=\"1\" class=\"dataframe\">\n",
       "  <thead>\n",
       "    <tr style=\"text-align: right;\">\n",
       "      <th></th>\n",
       "      <th>name</th>\n",
       "      <th>position</th>\n",
       "      <th>club</th>\n",
       "    </tr>\n",
       "  </thead>\n",
       "  <tbody>\n",
       "    <tr>\n",
       "      <th>0</th>\n",
       "      <td>G. Pasquale</td>\n",
       "      <td>LM</td>\n",
       "      <td>Udinese</td>\n",
       "    </tr>\n",
       "    <tr>\n",
       "      <th>1</th>\n",
       "      <td>Luis García</td>\n",
       "      <td>CM CAM CDM</td>\n",
       "      <td>KAS Eupen</td>\n",
       "    </tr>\n",
       "    <tr>\n",
       "      <th>2</th>\n",
       "      <td>J. Cole</td>\n",
       "      <td>CAM RM RW LM</td>\n",
       "      <td>Coventry City</td>\n",
       "    </tr>\n",
       "    <tr>\n",
       "      <th>3</th>\n",
       "      <td>D. Yorke</td>\n",
       "      <td>NaN</td>\n",
       "      <td>Sunderland</td>\n",
       "    </tr>\n",
       "    <tr>\n",
       "      <th>4</th>\n",
       "      <td>Iniesta</td>\n",
       "      <td>CM CAM</td>\n",
       "      <td>Vissel Kobe</td>\n",
       "    </tr>\n",
       "  </tbody>\n",
       "</table>\n",
       "</div>"
      ],
      "text/plain": [
       "          name      position           club\n",
       "0  G. Pasquale            LM        Udinese\n",
       "1  Luis García    CM CAM CDM      KAS Eupen\n",
       "2      J. Cole  CAM RM RW LM  Coventry City\n",
       "3     D. Yorke           NaN     Sunderland\n",
       "4      Iniesta        CM CAM    Vissel Kobe"
      ]
     },
     "metadata": {},
     "output_type": "display_data"
    }
   ],
   "source": [
    "numerical = df1.select_dtypes(include=np.number)\n",
    "categoricals = df1.select_dtypes(include=np.object)\n",
    "print('Numerical Data into dataframe:')\n",
    "display(numerical.head())\n",
    "print('Categorical Data into dataframe:')\n",
    "display(categoricals.head())"
   ]
  },
  {
   "cell_type": "markdown",
   "id": "b368c7e6",
   "metadata": {},
   "source": [
    "# Scatter plotting graph to check relation between two columns"
   ]
  },
  {
   "cell_type": "code",
   "execution_count": 143,
   "id": "499383ab",
   "metadata": {
    "scrolled": true
   },
   "outputs": [
    {
     "data": {
      "image/png": "[encoded data removed]",
      "text/plain": [
       "<Figure size 432x288 with 1 Axes>"
      ]
     },
     "metadata": {
      "needs_background": "light"
     },
     "output_type": "display_data"
    }
   ],
   "source": [
    "plt.scatter(df1['ova'], df1['market_value'])\n",
    "plt.show()"
   ]
  },
  {
   "cell_type": "code",
   "execution_count": 144,
   "id": "f9b69d19",
   "metadata": {
    "scrolled": false
   },
   "outputs": [
    {
     "data": {
      "image/png": "[encoded data removed]",
      "text/plain": [
       "<Figure size 432x288 with 1 Axes>"
      ]
     },
     "metadata": {
      "needs_background": "light"
     },
     "output_type": "display_data"
    }
   ],
   "source": [
    "plt.scatter(df1['age'], df1['market_value'])\n",
    "plt.show()"
   ]
  },
  {
   "cell_type": "code",
   "execution_count": 145,
   "id": "46cdef65",
   "metadata": {
    "scrolled": true
   },
   "outputs": [
    {
     "data": {
      "image/png": "[encoded data removed]",
      "text/plain": [
       "<Figure size 432x288 with 1 Axes>"
      ]
     },
     "metadata": {
      "needs_background": "light"
     },
     "output_type": "display_data"
    }
   ],
   "source": [
    "plt.scatter(df1['age'], df1['ova'])\n",
    "plt.show()"
   ]
  },
  {
   "cell_type": "code",
   "execution_count": 174,
   "id": "e4614042",
   "metadata": {},
   "outputs": [
    {
     "data": {
      "image/png": "[encoded data removed]",
      "text/plain": [
       "<Figure size 432x288 with 1 Axes>"
      ]
     },
     "metadata": {
      "needs_background": "light"
     },
     "output_type": "display_data"
    }
   ],
   "source": [
    "test = df1.sort_values(['age'], ascending=False)\n",
    "test_sort1=test.head(300)\n",
    "plt.scatter(test_sort1['age'], test_sort1['ova'])\n",
    "plt.show()"
   ]
  },
  {
   "cell_type": "markdown",
   "id": "48c04b84",
   "metadata": {},
   "source": [
    "# top 10 player with  highest market value "
   ]
  },
  {
   "cell_type": "code",
   "execution_count": 146,
   "id": "96169947",
   "metadata": {
    "scrolled": false
   },
   "outputs": [
    {
     "data": {
      "text/html": [
       "<div>\n",
       "<style scoped>\n",
       "    .dataframe tbody tr th:only-of-type {\n",
       "        vertical-align: middle;\n",
       "    }\n",
       "\n",
       "    .dataframe tbody tr th {\n",
       "        vertical-align: top;\n",
       "    }\n",
       "\n",
       "    .dataframe thead th {\n",
       "        text-align: right;\n",
       "    }\n",
       "</style>\n",
       "<table border=\"1\" class=\"dataframe\">\n",
       "  <thead>\n",
       "    <tr style=\"text-align: right;\">\n",
       "      <th></th>\n",
       "      <th>name</th>\n",
       "      <th>age</th>\n",
       "      <th>position</th>\n",
       "      <th>ova</th>\n",
       "      <th>value</th>\n",
       "      <th>wage</th>\n",
       "      <th>club</th>\n",
       "      <th>market_value</th>\n",
       "    </tr>\n",
       "  </thead>\n",
       "  <tbody>\n",
       "    <tr>\n",
       "      <th>9331</th>\n",
       "      <td>K. Mbappé</td>\n",
       "      <td>21</td>\n",
       "      <td>ST LW RW</td>\n",
       "      <td>90</td>\n",
       "      <td>105500000.0</td>\n",
       "      <td>160000.0</td>\n",
       "      <td>Paris Saint-Germain</td>\n",
       "      <td>105660000.0</td>\n",
       "    </tr>\n",
       "    <tr>\n",
       "      <th>2650</th>\n",
       "      <td>Neymar Jr</td>\n",
       "      <td>28</td>\n",
       "      <td>LW CAM</td>\n",
       "      <td>91</td>\n",
       "      <td>90000000.0</td>\n",
       "      <td>270000.0</td>\n",
       "      <td>Paris Saint-Germain</td>\n",
       "      <td>90270000.0</td>\n",
       "    </tr>\n",
       "    <tr>\n",
       "      <th>2871</th>\n",
       "      <td>K. De Bruyne</td>\n",
       "      <td>29</td>\n",
       "      <td>CAM CM</td>\n",
       "      <td>91</td>\n",
       "      <td>87000000.0</td>\n",
       "      <td>370000.0</td>\n",
       "      <td>Manchester City</td>\n",
       "      <td>87370000.0</td>\n",
       "    </tr>\n",
       "    <tr>\n",
       "      <th>2287</th>\n",
       "      <td>R. Lewandowski</td>\n",
       "      <td>31</td>\n",
       "      <td>ST</td>\n",
       "      <td>91</td>\n",
       "      <td>80000000.0</td>\n",
       "      <td>240000.0</td>\n",
       "      <td>FC Bayern München</td>\n",
       "      <td>80240000.0</td>\n",
       "    </tr>\n",
       "    <tr>\n",
       "      <th>5109</th>\n",
       "      <td>M. Salah</td>\n",
       "      <td>28</td>\n",
       "      <td>RW</td>\n",
       "      <td>90</td>\n",
       "      <td>78000000.0</td>\n",
       "      <td>250000.0</td>\n",
       "      <td>Liverpool</td>\n",
       "      <td>78250000.0</td>\n",
       "    </tr>\n",
       "    <tr>\n",
       "      <th>5030</th>\n",
       "      <td>S. Mané</td>\n",
       "      <td>28</td>\n",
       "      <td>LW</td>\n",
       "      <td>90</td>\n",
       "      <td>78000000.0</td>\n",
       "      <td>250000.0</td>\n",
       "      <td>Liverpool</td>\n",
       "      <td>78250000.0</td>\n",
       "    </tr>\n",
       "    <tr>\n",
       "      <th>4166</th>\n",
       "      <td>V. van Dijk</td>\n",
       "      <td>28</td>\n",
       "      <td>CB</td>\n",
       "      <td>90</td>\n",
       "      <td>75500000.0</td>\n",
       "      <td>210000.0</td>\n",
       "      <td>Liverpool</td>\n",
       "      <td>75710000.0</td>\n",
       "    </tr>\n",
       "    <tr>\n",
       "      <th>3665</th>\n",
       "      <td>J. Oblak</td>\n",
       "      <td>27</td>\n",
       "      <td>GK</td>\n",
       "      <td>91</td>\n",
       "      <td>75000000.0</td>\n",
       "      <td>125000.0</td>\n",
       "      <td>Atlético Madrid</td>\n",
       "      <td>75125000.0</td>\n",
       "    </tr>\n",
       "    <tr>\n",
       "      <th>4049</th>\n",
       "      <td>R. Sterling</td>\n",
       "      <td>25</td>\n",
       "      <td>LW RW</td>\n",
       "      <td>88</td>\n",
       "      <td>72500000.0</td>\n",
       "      <td>270000.0</td>\n",
       "      <td>Manchester City</td>\n",
       "      <td>72770000.0</td>\n",
       "    </tr>\n",
       "    <tr>\n",
       "      <th>3961</th>\n",
       "      <td>H. Kane</td>\n",
       "      <td>26</td>\n",
       "      <td>ST</td>\n",
       "      <td>88</td>\n",
       "      <td>71000000.0</td>\n",
       "      <td>220000.0</td>\n",
       "      <td>Tottenham Hotspur</td>\n",
       "      <td>71220000.0</td>\n",
       "    </tr>\n",
       "  </tbody>\n",
       "</table>\n",
       "</div>"
      ],
      "text/plain": [
       "                name  age  position  ova        value      wage  \\\n",
       "9331       K. Mbappé   21  ST LW RW   90  105500000.0  160000.0   \n",
       "2650       Neymar Jr   28    LW CAM   91   90000000.0  270000.0   \n",
       "2871    K. De Bruyne   29    CAM CM   91   87000000.0  370000.0   \n",
       "2287  R. Lewandowski   31        ST   91   80000000.0  240000.0   \n",
       "5109        M. Salah   28        RW   90   78000000.0  250000.0   \n",
       "5030         S. Mané   28        LW   90   78000000.0  250000.0   \n",
       "4166     V. van Dijk   28        CB   90   75500000.0  210000.0   \n",
       "3665        J. Oblak   27        GK   91   75000000.0  125000.0   \n",
       "4049     R. Sterling   25     LW RW   88   72500000.0  270000.0   \n",
       "3961         H. Kane   26        ST   88   71000000.0  220000.0   \n",
       "\n",
       "                     club  market_value  \n",
       "9331  Paris Saint-Germain   105660000.0  \n",
       "2650  Paris Saint-Germain    90270000.0  \n",
       "2871      Manchester City    87370000.0  \n",
       "2287    FC Bayern München    80240000.0  \n",
       "5109            Liverpool    78250000.0  \n",
       "5030            Liverpool    78250000.0  \n",
       "4166            Liverpool    75710000.0  \n",
       "3665      Atlético Madrid    75125000.0  \n",
       "4049      Manchester City    72770000.0  \n",
       "3961    Tottenham Hotspur    71220000.0  "
      ]
     },
     "execution_count": 146,
     "metadata": {},
     "output_type": "execute_result"
    }
   ],
   "source": [
    "test = df1.sort_values(['market_value'], ascending=False)\n",
    "test_sort=test.head(10)\n",
    "test_sort"
   ]
  },
  {
   "cell_type": "code",
   "execution_count": 171,
   "id": "47e76178",
   "metadata": {
    "scrolled": true
   },
   "outputs": [
    {
     "data": {
      "image/png": "[encoded data removed]",
      "text/plain": [
       "<Figure size 432x288 with 1 Axes>"
      ]
     },
     "metadata": {
      "needs_background": "light"
     },
     "output_type": "display_data"
    }
   ],
   "source": [
    "test_sort.plot(x='position', y='market_value')\n",
    "plt.show()"
   ]
  },
  {
   "cell_type": "code",
   "execution_count": null,
   "id": "aac61e18",
   "metadata": {},
   "outputs": [],
   "source": []
  },
  {
   "cell_type": "markdown",
   "id": "daa8e776",
   "metadata": {},
   "source": [
    "# correlations betwwen age , ova, total_vale "
   ]
  },
  {
   "cell_type": "code",
   "execution_count": 191,
   "id": "02b3de7a",
   "metadata": {},
   "outputs": [
    {
     "data": {
      "text/html": [
       "<div>\n",
       "<style scoped>\n",
       "    .dataframe tbody tr th:only-of-type {\n",
       "        vertical-align: middle;\n",
       "    }\n",
       "\n",
       "    .dataframe tbody tr th {\n",
       "        vertical-align: top;\n",
       "    }\n",
       "\n",
       "    .dataframe thead th {\n",
       "        text-align: right;\n",
       "    }\n",
       "</style>\n",
       "<table border=\"1\" class=\"dataframe\">\n",
       "  <thead>\n",
       "    <tr style=\"text-align: right;\">\n",
       "      <th></th>\n",
       "      <th>age</th>\n",
       "      <th>ova</th>\n",
       "      <th>market_value</th>\n",
       "    </tr>\n",
       "  </thead>\n",
       "  <tbody>\n",
       "    <tr>\n",
       "      <th>0</th>\n",
       "      <td>33</td>\n",
       "      <td>69</td>\n",
       "      <td>632000.0</td>\n",
       "    </tr>\n",
       "    <tr>\n",
       "      <th>1</th>\n",
       "      <td>37</td>\n",
       "      <td>71</td>\n",
       "      <td>607000.0</td>\n",
       "    </tr>\n",
       "    <tr>\n",
       "      <th>2</th>\n",
       "      <td>33</td>\n",
       "      <td>71</td>\n",
       "      <td>1115000.0</td>\n",
       "    </tr>\n",
       "    <tr>\n",
       "      <th>3</th>\n",
       "      <td>36</td>\n",
       "      <td>68</td>\n",
       "      <td>0.0</td>\n",
       "    </tr>\n",
       "    <tr>\n",
       "      <th>4</th>\n",
       "      <td>36</td>\n",
       "      <td>81</td>\n",
       "      <td>5512000.0</td>\n",
       "    </tr>\n",
       "  </tbody>\n",
       "</table>\n",
       "</div>"
      ],
      "text/plain": [
       "   age  ova  market_value\n",
       "0   33   69      632000.0\n",
       "1   37   71      607000.0\n",
       "2   33   71     1115000.0\n",
       "3   36   68           0.0\n",
       "4   36   81     5512000.0"
      ]
     },
     "execution_count": 191,
     "metadata": {},
     "output_type": "execute_result"
    }
   ],
   "source": [
    "test_data = df1[[  'age', 'ova', 'market_value']]\n",
    "test_data.head()"
   ]
  },
  {
   "cell_type": "code",
   "execution_count": 192,
   "id": "9a7f68c6",
   "metadata": {},
   "outputs": [
    {
     "data": {
      "text/html": [
       "<div>\n",
       "<style scoped>\n",
       "    .dataframe tbody tr th:only-of-type {\n",
       "        vertical-align: middle;\n",
       "    }\n",
       "\n",
       "    .dataframe tbody tr th {\n",
       "        vertical-align: top;\n",
       "    }\n",
       "\n",
       "    .dataframe thead th {\n",
       "        text-align: right;\n",
       "    }\n",
       "</style>\n",
       "<table border=\"1\" class=\"dataframe\">\n",
       "  <thead>\n",
       "    <tr style=\"text-align: right;\">\n",
       "      <th></th>\n",
       "      <th>age</th>\n",
       "      <th>ova</th>\n",
       "      <th>market_value</th>\n",
       "    </tr>\n",
       "  </thead>\n",
       "  <tbody>\n",
       "    <tr>\n",
       "      <th>age</th>\n",
       "      <td>1.000000</td>\n",
       "      <td>-0.266193</td>\n",
       "      <td>-0.997767</td>\n",
       "    </tr>\n",
       "    <tr>\n",
       "      <th>ova</th>\n",
       "      <td>-0.266193</td>\n",
       "      <td>1.000000</td>\n",
       "      <td>0.329981</td>\n",
       "    </tr>\n",
       "    <tr>\n",
       "      <th>market_value</th>\n",
       "      <td>-0.997767</td>\n",
       "      <td>0.329981</td>\n",
       "      <td>1.000000</td>\n",
       "    </tr>\n",
       "  </tbody>\n",
       "</table>\n",
       "</div>"
      ],
      "text/plain": [
       "                   age       ova  market_value\n",
       "age           1.000000 -0.266193     -0.997767\n",
       "ova          -0.266193  1.000000      0.329981\n",
       "market_value -0.997767  0.329981      1.000000"
      ]
     },
     "execution_count": 192,
     "metadata": {},
     "output_type": "execute_result"
    }
   ],
   "source": [
    "corr_data = test_data.corr() # With standard method 'pearson'\n",
    "corr_matrix = corr_data.corr()\n",
    "corr_matrix"
   ]
  },
  {
   "cell_type": "code",
   "execution_count": 193,
   "id": "9282d6a1",
   "metadata": {
    "scrolled": false
   },
   "outputs": [
    {
     "data": {
      "image/png": "[encoded data removed]",
      "text/plain": [
       "<Figure size 360x360 with 2 Axes>"
      ]
     },
     "metadata": {
      "needs_background": "light"
     },
     "output_type": "display_data"
    }
   ],
   "source": [
    "mask = np.zeros_like(corr_matrix)\n",
    "mask[np.triu_indices_from(mask)] = True\n",
    "fig, ax = plt.subplots(figsize=(5, 5))\n",
    "ax = sns.heatmap(corr_matrix, mask=mask, annot=True) \n",
    "plt.show()"
   ]
  },
  {
   "cell_type": "markdown",
   "id": "4c1cdac2",
   "metadata": {},
   "source": [
    "# Analyzing Results"
   ]
  },
  {
   "cell_type": "code",
   "execution_count": 185,
   "id": "0f79cf6f",
   "metadata": {},
   "outputs": [],
   "source": [
    "## encoding categorical\n",
    "demo = pd.get_dummies(numerical, drop_first=True)"
   ]
  },
  {
   "cell_type": "code",
   "execution_count": 186,
   "id": "abf01795",
   "metadata": {},
   "outputs": [],
   "source": [
    "#effective_to_date encoding\n",
    "# X-y split.\n",
    "X = demo.drop(['market_value'], axis=1)#effective_to_date is target\n",
    "y = demo['market_value']\n",
    "X_train, X_test, y_train, y_test = train_test_split(X, y, test_size=0.3, random_state=42)\n"
   ]
  },
  {
   "cell_type": "code",
   "execution_count": 187,
   "id": "e77b42a2",
   "metadata": {},
   "outputs": [
    {
     "data": {
      "text/plain": [
       "LinearRegression()"
      ]
     },
     "execution_count": 187,
     "metadata": {},
     "output_type": "execute_result"
    }
   ],
   "source": [
    "#LinearRegression\n",
    "model = LinearRegression()\n",
    "model.fit(X_train, y_train)\n"
   ]
  },
  {
   "cell_type": "code",
   "execution_count": 188,
   "id": "472f7bbd",
   "metadata": {
    "scrolled": true
   },
   "outputs": [
    {
     "data": {
      "text/plain": [
       "(1.0, 1.6480609541317184e-09, 2.121031011120857e-09)"
      ]
     },
     "execution_count": 188,
     "metadata": {},
     "output_type": "execute_result"
    }
   ],
   "source": [
    "predictions = model.predict(X_test)\n",
    "r2_score(y_test, predictions), mean_absolute_error(y_test, predictions), mean_squared_error(y_test, predictions, squared=False)"
   ]
  },
  {
   "cell_type": "markdown",
   "id": "82563739",
   "metadata": {},
   "source": [
    "# Graphical presentation of prediction "
   ]
  },
  {
   "cell_type": "code",
   "execution_count": 189,
   "id": "376454f0",
   "metadata": {},
   "outputs": [
    {
     "data": {
      "text/plain": [
       "<AxesSubplot:xlabel='market_value'>"
      ]
     },
     "execution_count": 189,
     "metadata": {},
     "output_type": "execute_result"
    },
    {
     "data": {
      "image/png": "[encoded data removed]",
      "text/plain": [
       "<Figure size 432x288 with 1 Axes>"
      ]
     },
     "metadata": {
      "needs_background": "light"
     },
     "output_type": "display_data"
    }
   ],
   "source": [
    "sns.regplot(y_test,predictions)"
   ]
  },
  {
   "cell_type": "code",
   "execution_count": null,
   "id": "9e9c3141",
   "metadata": {},
   "outputs": [],
   "source": []
  }
 ],
 "metadata": {
  "kernelspec": {
   "display_name": "Python 3 (ipykernel)",
   "language": "python",
   "name": "python3"
  },
  "language_info": {
   "codemirror_mode": {
    "name": "ipython",
    "version": 3
   },
   "file_extension": ".py",
   "mimetype": "text/x-python",
   "name": "python",
   "nbconvert_exporter": "python",
   "pygments_lexer": "ipython3",
   "version": "3.9.7"
  }
 },
 "nbformat": 4,
 "nbformat_minor": 5
}
